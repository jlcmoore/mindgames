{
 "cells": [
  {
   "cell_type": "markdown",
   "id": "fe80b890",
   "metadata": {},
   "source": [
    "# Setup"
   ]
  },
  {
   "cell_type": "code",
   "execution_count": 1,
   "id": "5dcbb49e",
   "metadata": {},
   "outputs": [],
   "source": [
    "import pandas as pd\n",
    "import numpy as np\n",
    "import statsmodels.api as sm\n",
    "import statsmodels.formula.api as smf\n",
    "from statsmodels.genmod.bayes_mixed_glm import BinomialBayesMixedGLM\n",
    "from scipy.special import logit\n",
    "\n",
    "# Read and preprocess the data\n",
    "data = pd.read_csv(\"data/games_e1.csv\")"
   ]
  },
  {
   "cell_type": "code",
   "execution_count": 2,
   "id": "23fc2847-f5c7-4851-af47-417d3bd399f2",
   "metadata": {},
   "outputs": [],
   "source": [
    "data = pd.read_csv(\"data/games_e1.csv\")\n",
    "data[\"scenario\"] = data[\"scenario\"].astype(\"category\")\n",
    "data[\"mental_state\"] = data[\"mental_state\"].astype(\"category\")\n",
    "data.loc[data[\"participant_id\"].isin([1, 82]), \"participant_id\"] = np.nan\n",
    "data[\"participant_id\"] = data[\"participant_id\"].astype(\"category\")\n",
    "data = data.loc[(data[\"add_hint\"] == False)]"
   ]
  },
  {
   "cell_type": "markdown",
   "id": "dda096dd",
   "metadata": {},
   "source": [
    "# Descriptive\n",
    "\n",
    "## Summary"
   ]
  },
  {
   "cell_type": "code",
   "execution_count": 3,
   "id": "1b5519a9",
   "metadata": {},
   "outputs": [
    {
     "name": "stdout",
     "output_type": "stream",
     "text": [
      "<class 'pandas.core.frame.DataFrame'>\n",
      "Index: 1204 entries, 0 to 1203\n",
      "Data columns (total 10 columns):\n",
      " #   Column              Non-Null Count  Dtype   \n",
      "---  ------              --------------  -----   \n",
      " 0   persuader_type      1204 non-null   object  \n",
      " 1   mental_state        1204 non-null   category\n",
      " 2   participant_id      1001 non-null   category\n",
      " 3   persuader_role      1204 non-null   object  \n",
      " 4   scenario            1204 non-null   category\n",
      " 5   trial_num           1204 non-null   int64   \n",
      " 6   success             1204 non-null   int64   \n",
      " 7   persuasion_success  1204 non-null   int64   \n",
      " 8   appeals_success     1204 non-null   int64   \n",
      " 9   add_hint            1204 non-null   bool    \n",
      "dtypes: bool(1), category(3), int64(4), object(2)\n",
      "memory usage: 77.4+ KB\n",
      "None\n",
      "       persuader_type mental_state  participant_id     persuader_role  \\\n",
      "count            1204         1204          1001.0               1204   \n",
      "unique              3            2           170.0                  1   \n",
      "top             human    no_reveal             2.0  energy consultant   \n",
      "freq              404          602           200.0               1204   \n",
      "mean              NaN          NaN             NaN                NaN   \n",
      "std               NaN          NaN             NaN                NaN   \n",
      "min               NaN          NaN             NaN                NaN   \n",
      "25%               NaN          NaN             NaN                NaN   \n",
      "50%               NaN          NaN             NaN                NaN   \n",
      "75%               NaN          NaN             NaN                NaN   \n",
      "max               NaN          NaN             NaN                NaN   \n",
      "\n",
      "       scenario    trial_num      success  persuasion_success  \\\n",
      "count      1204  1204.000000  1204.000000         1204.000000   \n",
      "unique        5          NaN          NaN                 NaN   \n",
      "top        llms          NaN          NaN                 NaN   \n",
      "freq        245          NaN          NaN                 NaN   \n",
      "mean        NaN    66.470100     0.316445            0.316445   \n",
      "std         NaN    66.175614     0.465282            0.465282   \n",
      "min         NaN     0.000000     0.000000            0.000000   \n",
      "25%         NaN     2.000000     0.000000            0.000000   \n",
      "50%         NaN    49.000000     0.000000            0.000000   \n",
      "75%         NaN   124.000000     1.000000            1.000000   \n",
      "max         NaN   199.000000     1.000000            1.000000   \n",
      "\n",
      "        appeals_success add_hint  \n",
      "count       1204.000000     1204  \n",
      "unique              NaN        1  \n",
      "top                 NaN    False  \n",
      "freq                NaN     1204  \n",
      "mean           0.238372      NaN  \n",
      "std            0.426265      NaN  \n",
      "min            0.000000      NaN  \n",
      "25%            0.000000      NaN  \n",
      "50%            0.000000      NaN  \n",
      "75%            0.000000      NaN  \n",
      "max            1.000000      NaN  \n"
     ]
    }
   ],
   "source": [
    "print(data.info())\n",
    "print(data.describe(include=\"all\"))"
   ]
  },
  {
   "cell_type": "markdown",
   "id": "2e91e8f0",
   "metadata": {},
   "source": [
    "## Number of games per condition"
   ]
  },
  {
   "cell_type": "code",
   "execution_count": 4,
   "id": "b49692f2",
   "metadata": {},
   "outputs": [
    {
     "name": "stdout",
     "output_type": "stream",
     "text": [
      "          persuader_type mental_state  n_games\n",
      "0      gpt-4o-2024-11-20    no_reveal      200\n",
      "1      gpt-4o-2024-11-20       reveal      200\n",
      "2                  human    no_reveal      202\n",
      "3                  human       reveal      202\n",
      "4  o1-preview-2024-09-12    no_reveal      200\n",
      "5  o1-preview-2024-09-12       reveal      200\n"
     ]
    },
    {
     "name": "stderr",
     "output_type": "stream",
     "text": [
      "/var/folders/y6/5z6f2swj2zqf2122ywg2lfg40000gn/T/ipykernel_50401/3089819761.py:2: FutureWarning: The default of observed=False is deprecated and will be changed to True in a future version of pandas. Pass observed=False to retain current behavior or observed=True to adopt the future default and silence this warning.\n",
      "  data.groupby([\"persuader_type\", \"mental_state\"]).size().reset_index(name=\"n_games\")\n"
     ]
    }
   ],
   "source": [
    "n_games_per_condition = (\n",
    "    data.groupby([\"persuader_type\", \"mental_state\"]).size().reset_index(name=\"n_games\")\n",
    ")\n",
    "print(n_games_per_condition)"
   ]
  },
  {
   "cell_type": "markdown",
   "id": "8c37a457",
   "metadata": {},
   "source": [
    "## Number of participants per condition"
   ]
  },
  {
   "cell_type": "code",
   "execution_count": 5,
   "id": "a6327fe0",
   "metadata": {},
   "outputs": [
    {
     "name": "stdout",
     "output_type": "stream",
     "text": [
      "          persuader_type mental_state  n_ppts\n",
      "0      gpt-4o-2024-11-20    no_reveal       1\n",
      "1      gpt-4o-2024-11-20       reveal       0\n",
      "2                  human    no_reveal      79\n",
      "3                  human       reveal      88\n",
      "4  o1-preview-2024-09-12    no_reveal       1\n",
      "5  o1-preview-2024-09-12       reveal       1\n"
     ]
    },
    {
     "name": "stderr",
     "output_type": "stream",
     "text": [
      "/var/folders/y6/5z6f2swj2zqf2122ywg2lfg40000gn/T/ipykernel_50401/3796846038.py:2: FutureWarning: The default of observed=False is deprecated and will be changed to True in a future version of pandas. Pass observed=False to retain current behavior or observed=True to adopt the future default and silence this warning.\n",
      "  data.groupby([\"persuader_type\", \"mental_state\"])[\"participant_id\"]\n"
     ]
    }
   ],
   "source": [
    "n_ppts_per_condition = (\n",
    "    data.groupby([\"persuader_type\", \"mental_state\"])[\"participant_id\"]\n",
    "    .nunique()\n",
    "    .reset_index(name=\"n_ppts\")\n",
    ")\n",
    "print(n_ppts_per_condition)"
   ]
  },
  {
   "cell_type": "markdown",
   "id": "5055ef90",
   "metadata": {},
   "source": [
    "## Results"
   ]
  },
  {
   "cell_type": "code",
   "execution_count": 6,
   "id": "5d2ce05b",
   "metadata": {},
   "outputs": [
    {
     "name": "stdout",
     "output_type": "stream",
     "text": [
      "          persuader_type mental_state  n_ppts  success_rate\n",
      "0      gpt-4o-2024-11-20    no_reveal       1         0.090\n",
      "1      gpt-4o-2024-11-20       reveal       0         0.175\n",
      "2                  human    no_reveal      79         0.292\n",
      "3                  human       reveal      88         0.371\n",
      "4  o1-preview-2024-09-12    no_reveal       1         0.175\n",
      "5  o1-preview-2024-09-12       reveal       1         0.795\n"
     ]
    },
    {
     "name": "stderr",
     "output_type": "stream",
     "text": [
      "/var/folders/y6/5z6f2swj2zqf2122ywg2lfg40000gn/T/ipykernel_50401/3885407465.py:2: FutureWarning: The default of observed=False is deprecated and will be changed to True in a future version of pandas. Pass observed=False to retain current behavior or observed=True to adopt the future default and silence this warning.\n",
      "  data.groupby([\"persuader_type\", \"mental_state\"])\n"
     ]
    }
   ],
   "source": [
    "results = (\n",
    "    data.groupby([\"persuader_type\", \"mental_state\"])\n",
    "    .agg(\n",
    "        n_ppts=(\"participant_id\", pd.Series.nunique),\n",
    "        success_rate=(\"success\", lambda x: round(x.mean(), 3)),\n",
    "    )\n",
    "    .reset_index()\n",
    ")\n",
    "print(results)"
   ]
  },
  {
   "cell_type": "markdown",
   "id": "1f6e1ef2-dedf-42de-90ce-827d69d9e580",
   "metadata": {},
   "source": [
    "# Jared: I'm not sure if any of the models are a correct translation from R. Just had o1 do it all with some revisions."
   ]
  },
  {
   "cell_type": "markdown",
   "id": "34f5be7f",
   "metadata": {},
   "source": [
    "# Hypotheses Testing\n",
    "\n",
    "We'll now use the `BinomialBayesMixedGLM` class from `statsmodels` to fit mixed-effects logistic regression models with random intercepts, similar to the `glmer` function in R's `lme4` package.\n",
    "\n",
    "**Note:** The `BinomialBayesMixedGLM` fits the model using Bayesian estimation methods (Laplace approximation or variational Bayes), but we can interpret the results similarly to maximum likelihood estimation in frequentist approaches.\n",
    "\n",
    "# H1\n",
    "\n",
    "## Simple GLM\n",
    "\n",
    "For H1 we’re using a logistic regression to ask “Is the human success rate in the `no_reveal` condition significantly greater than 0.1”?\n",
    "\n",
    "Humans are significantly above chance on the `no_reveal` condition(!)"
   ]
  },
  {
   "cell_type": "code",
   "execution_count": 7,
   "id": "b41bfba2",
   "metadata": {},
   "outputs": [
    {
     "name": "stdout",
     "output_type": "stream",
     "text": [
      "                 Generalized Linear Model Regression Results                  \n",
      "==============================================================================\n",
      "Dep. Variable:                success   No. Observations:                  202\n",
      "Model:                            GLM   Df Residuals:                      201\n",
      "Model Family:                Binomial   Df Model:                            0\n",
      "Link Function:                  Logit   Scale:                          1.0000\n",
      "Method:                          IRLS   Log-Likelihood:                -122.01\n",
      "Date:                Fri, 31 Jan 2025   Deviance:                       244.02\n",
      "Time:                        08:22:37   Pearson chi2:                     202.\n",
      "No. Iterations:                     4   Pseudo R-squ. (CS):                nan\n",
      "Covariance Type:            nonrobust                                         \n",
      "==============================================================================\n",
      "                 coef    std err          z      P>|z|      [0.025      0.975]\n",
      "------------------------------------------------------------------------------\n",
      "Intercept      1.3119      0.155      8.479      0.000       1.009       1.615\n",
      "==============================================================================\n"
     ]
    },
    {
     "name": "stderr",
     "output_type": "stream",
     "text": [
      "/Users/jared/workspace/mindgames/env-mindgames/lib/python3.11/site-packages/statsmodels/genmod/families/links.py:198: RuntimeWarning: overflow encountered in exp\n",
      "  t = np.exp(-z)\n",
      "/Users/jared/workspace/mindgames/env-mindgames/lib/python3.11/site-packages/statsmodels/genmod/families/family.py:1056: RuntimeWarning: divide by zero encountered in log\n",
      "  special.gammaln(n - y + 1) + y * np.log(mu / (1 - mu + 1e-20)) +\n",
      "/Users/jared/workspace/mindgames/env-mindgames/lib/python3.11/site-packages/statsmodels/genmod/families/family.py:1056: RuntimeWarning: invalid value encountered in multiply\n",
      "  special.gammaln(n - y + 1) + y * np.log(mu / (1 - mu + 1e-20)) +\n"
     ]
    }
   ],
   "source": [
    "chance_prob = 0.1\n",
    "chance_logodds = logit(chance_prob)\n",
    "\n",
    "model_data = data.loc[\n",
    "    (data[\"persuader_type\"] == \"human\") & (data[\"mental_state\"] == \"no_reveal\")\n",
    "].copy()\n",
    "\n",
    "# Add offset column\n",
    "model_data[\"offset_term\"] = chance_logodds\n",
    "\n",
    "# Fit the GLM with offset\n",
    "model = smf.glm(\n",
    "    formula=\"success ~ 1\",\n",
    "    data=model_data,\n",
    "    family=sm.families.Binomial(),\n",
    "    offset=model_data[\"offset_term\"],\n",
    ")\n",
    "\n",
    "result = model.fit()\n",
    "print(result.summary())"
   ]
  },
  {
   "cell_type": "markdown",
   "id": "c3ef9531",
   "metadata": {},
   "source": [
    "## Mixed Effects Model\n",
    "\n",
    "We now fit a mixed-effects logistic regression with a random intercept for `scenario`."
   ]
  },
  {
   "cell_type": "code",
   "execution_count": 8,
   "id": "2e0cea71",
   "metadata": {},
   "outputs": [
    {
     "name": "stdout",
     "output_type": "stream",
     "text": [
      "               Binomial Mixed GLM Results\n",
      "========================================================\n",
      "          Type Post. Mean Post. SD   SD  SD (LB) SD (UB)\n",
      "--------------------------------------------------------\n",
      "Intercept    M    -0.8885   0.1544                      \n",
      "scenario     V    -1.2772   0.3441 0.279   0.140   0.555\n",
      "========================================================\n",
      "Parameter types are mean structure (M) and variance\n",
      "structure (V)\n",
      "Variance parameters are modeled as log standard\n",
      "deviations\n"
     ]
    }
   ],
   "source": [
    "# Prepare the data\n",
    "model_data = data.loc[\n",
    "    (data[\"persuader_type\"] == \"human\") & (data[\"mental_state\"] == \"no_reveal\")\n",
    "].copy()\n",
    "\n",
    "# Ensure 'scenario' is of type string for proper handling in formulas\n",
    "model_data[\"scenario\"] = model_data[\"scenario\"].astype(str)\n",
    "\n",
    "# Define the fixed effects formula (only intercept in this case)\n",
    "formula = \"success ~ 1\"\n",
    "\n",
    "# Define variance components using vc_formulas\n",
    "vc_formula = {\"scenario\": \"0 + C(scenario)\"}\n",
    "\n",
    "# Fit the model using the from_formula method\n",
    "model = BinomialBayesMixedGLM.from_formula(\n",
    "    formula=formula, vc_formulas=vc_formula, data=model_data\n",
    ")\n",
    "\n",
    "# Fit the model using variational Bayes method\n",
    "result = model.fit_vb()\n",
    "\n",
    "# Output the summary\n",
    "print(result.summary())"
   ]
  },
  {
   "cell_type": "markdown",
   "id": "f088bd7a",
   "metadata": {},
   "source": [
    "# H2\n",
    "\n",
    "## Simple GLM\n",
    "\n",
    "For H2 we're asking \"Do human participants perform significantly better in `reveal` vs `no_reveal`\".\n",
    "\n",
    "The effect is directionally positive but not significant even in the simple GLM."
   ]
  },
  {
   "cell_type": "code",
   "execution_count": 9,
   "id": "c2115efc",
   "metadata": {},
   "outputs": [
    {
     "name": "stdout",
     "output_type": "stream",
     "text": [
      "                 Generalized Linear Model Regression Results                  \n",
      "==============================================================================\n",
      "Dep. Variable:                success   No. Observations:                  404\n",
      "Model:                            GLM   Df Residuals:                      402\n",
      "Model Family:                Binomial   Df Model:                            1\n",
      "Link Function:                  Logit   Scale:                          1.0000\n",
      "Method:                          IRLS   Log-Likelihood:                -255.26\n",
      "Date:                Fri, 31 Jan 2025   Deviance:                       510.51\n",
      "Time:                        08:22:37   Pearson chi2:                     404.\n",
      "No. Iterations:                     4   Pseudo R-squ. (CS):           0.007063\n",
      "Covariance Type:            nonrobust                                         \n",
      "==========================================================================================\n",
      "                             coef    std err          z      P>|z|      [0.025      0.975]\n",
      "------------------------------------------------------------------------------------------\n",
      "Intercept                 -0.8853      0.155     -5.722      0.000      -1.189      -0.582\n",
      "mental_state[T.reveal]     0.3586      0.212      1.688      0.091      -0.058       0.775\n",
      "==========================================================================================\n"
     ]
    }
   ],
   "source": [
    "model_data = data.loc[data[\"persuader_type\"] == \"human\"]\n",
    "\n",
    "model = smf.glm(\n",
    "    formula=\"success ~ mental_state\", data=model_data, family=sm.families.Binomial()\n",
    ")\n",
    "\n",
    "result = model.fit()\n",
    "print(result.summary())"
   ]
  },
  {
   "cell_type": "markdown",
   "id": "5cbcea62",
   "metadata": {},
   "source": [
    "## Mixed Effects Model"
   ]
  },
  {
   "cell_type": "code",
   "execution_count": 10,
   "id": "2c85abb8",
   "metadata": {},
   "outputs": [
    {
     "name": "stdout",
     "output_type": "stream",
     "text": [
      "                     Binomial Mixed GLM Results\n",
      "=====================================================================\n",
      "                       Type Post. Mean Post. SD   SD  SD (LB) SD (UB)\n",
      "---------------------------------------------------------------------\n",
      "Intercept                 M    -0.8843   0.1059                      \n",
      "mental_state[T.reveal]    M     0.3572   0.1455                      \n",
      "scenario                  V    -1.4646   0.3520 0.231   0.114   0.467\n",
      "=====================================================================\n",
      "Parameter types are mean structure (M) and variance structure (V)\n",
      "Variance parameters are modeled as log standard deviations\n"
     ]
    }
   ],
   "source": [
    "# Prepare the data\n",
    "model_data = data.loc[data[\"persuader_type\"] == \"human\"].copy()\n",
    "\n",
    "# Ensure 'scenario' is of type string for proper handling in formulas\n",
    "model_data[\"scenario\"] = model_data[\"scenario\"].astype(str)\n",
    "\n",
    "# Define the fixed effects formula\n",
    "formula = \"success ~ mental_state\"\n",
    "\n",
    "# Define variance components using vc_formulas\n",
    "vc_formula = {\"scenario\": \"0 + C(scenario)\"}\n",
    "\n",
    "# Fit the model using the from_formula method\n",
    "model = BinomialBayesMixedGLM.from_formula(\n",
    "    formula=formula, vc_formulas=vc_formula, data=model_data\n",
    ")\n",
    "\n",
    "# Fit the model using variational Bayes method\n",
    "result = model.fit_vb()\n",
    "\n",
    "# Output the summary\n",
    "print(result.summary())"
   ]
  },
  {
   "cell_type": "markdown",
   "id": "604a83d7",
   "metadata": {},
   "source": [
    "# H3\n",
    "\n",
    "## Simple GLM"
   ]
  },
  {
   "cell_type": "code",
   "execution_count": 11,
   "id": "ba01f568",
   "metadata": {},
   "outputs": [
    {
     "name": "stdout",
     "output_type": "stream",
     "text": [
      "                 Generalized Linear Model Regression Results                  \n",
      "==============================================================================\n",
      "Dep. Variable:                success   No. Observations:                  200\n",
      "Model:                            GLM   Df Residuals:                      199\n",
      "Model Family:                Binomial   Df Model:                            0\n",
      "Link Function:                  Logit   Scale:                          1.0000\n",
      "Method:                          IRLS   Log-Likelihood:                -92.745\n",
      "Date:                Fri, 31 Jan 2025   Deviance:                       185.49\n",
      "Time:                        08:22:37   Pearson chi2:                     200.\n",
      "No. Iterations:                     4   Pseudo R-squ. (CS):                nan\n",
      "Covariance Type:            nonrobust                                         \n",
      "==============================================================================\n",
      "                 coef    std err          z      P>|z|      [0.025      0.975]\n",
      "------------------------------------------------------------------------------\n",
      "Intercept      0.6466      0.186      3.475      0.001       0.282       1.011\n",
      "==============================================================================\n"
     ]
    },
    {
     "name": "stderr",
     "output_type": "stream",
     "text": [
      "/Users/jared/workspace/mindgames/env-mindgames/lib/python3.11/site-packages/statsmodels/genmod/families/links.py:198: RuntimeWarning: overflow encountered in exp\n",
      "  t = np.exp(-z)\n",
      "/Users/jared/workspace/mindgames/env-mindgames/lib/python3.11/site-packages/statsmodels/genmod/families/family.py:1056: RuntimeWarning: divide by zero encountered in log\n",
      "  special.gammaln(n - y + 1) + y * np.log(mu / (1 - mu + 1e-20)) +\n",
      "/Users/jared/workspace/mindgames/env-mindgames/lib/python3.11/site-packages/statsmodels/genmod/families/family.py:1056: RuntimeWarning: invalid value encountered in multiply\n",
      "  special.gammaln(n - y + 1) + y * np.log(mu / (1 - mu + 1e-20)) +\n"
     ]
    }
   ],
   "source": [
    "chance_prob = 0.1\n",
    "chance_logodds = logit(chance_prob)\n",
    "\n",
    "model_data = data.loc[\n",
    "    (data[\"persuader_type\"] == \"o1-preview-2024-09-12\")\n",
    "    & (data[\"mental_state\"] == \"no_reveal\")\n",
    "].copy()\n",
    "\n",
    "model_data[\"offset_term\"] = chance_logodds\n",
    "\n",
    "# Fit the GLM with offset\n",
    "model = smf.glm(\n",
    "    formula=\"success ~ 1\",\n",
    "    data=model_data,\n",
    "    family=sm.families.Binomial(),\n",
    "    offset=model_data[\"offset_term\"],\n",
    ")\n",
    "\n",
    "result = model.fit()\n",
    "print(result.summary())"
   ]
  },
  {
   "cell_type": "markdown",
   "id": "68e77fb0",
   "metadata": {},
   "source": [
    "## Mixed Effects Model"
   ]
  },
  {
   "cell_type": "code",
   "execution_count": 12,
   "id": "3abeed57",
   "metadata": {},
   "outputs": [
    {
     "name": "stdout",
     "output_type": "stream",
     "text": [
      "               Binomial Mixed GLM Results\n",
      "========================================================\n",
      "          Type Post. Mean Post. SD   SD  SD (LB) SD (UB)\n",
      "--------------------------------------------------------\n",
      "Intercept    M    -1.6404   0.1905                      \n",
      "scenario     V    -0.3076   0.3103 0.735   0.395   1.368\n",
      "========================================================\n",
      "Parameter types are mean structure (M) and variance\n",
      "structure (V)\n",
      "Variance parameters are modeled as log standard\n",
      "deviations\n"
     ]
    }
   ],
   "source": [
    "# Ensure 'scenario' is of type string\n",
    "model_data[\"scenario\"] = model_data[\"scenario\"].astype(str)\n",
    "\n",
    "# Define the fixed effects formula\n",
    "formula = \"success ~ 1\"\n",
    "\n",
    "# Define variance components\n",
    "vc_formula = {\"scenario\": \"0 + C(scenario)\"}\n",
    "\n",
    "# Fit the model\n",
    "model = BinomialBayesMixedGLM.from_formula(\n",
    "    formula=formula, vc_formulas=vc_formula, data=model_data\n",
    ")\n",
    "\n",
    "result = model.fit_vb()\n",
    "print(result.summary())"
   ]
  },
  {
   "cell_type": "markdown",
   "id": "3efb38c5",
   "metadata": {},
   "source": [
    "# H4\n",
    "\n",
    "## Simple GLM"
   ]
  },
  {
   "cell_type": "code",
   "execution_count": 13,
   "id": "3e982a32",
   "metadata": {},
   "outputs": [
    {
     "name": "stdout",
     "output_type": "stream",
     "text": [
      "                 Generalized Linear Model Regression Results                  \n",
      "==============================================================================\n",
      "Dep. Variable:                success   No. Observations:                  400\n",
      "Model:                            GLM   Df Residuals:                      398\n",
      "Model Family:                Binomial   Df Model:                            1\n",
      "Link Function:                  Logit   Scale:                          1.0000\n",
      "Method:                          IRLS   Log-Likelihood:                -194.20\n",
      "Date:                Fri, 31 Jan 2025   Deviance:                       388.39\n",
      "Time:                        08:22:37   Pearson chi2:                     400.\n",
      "No. Iterations:                     4   Pseudo R-squ. (CS):             0.3393\n",
      "Covariance Type:            nonrobust                                         \n",
      "==========================================================================================\n",
      "                             coef    std err          z      P>|z|      [0.025      0.975]\n",
      "------------------------------------------------------------------------------------------\n",
      "Intercept                 -1.5506      0.186     -8.332      0.000      -1.915      -1.186\n",
      "mental_state[T.reveal]     2.9059      0.256     11.371      0.000       2.405       3.407\n",
      "==========================================================================================\n"
     ]
    }
   ],
   "source": [
    "model_data = data.loc[data[\"persuader_type\"] == \"o1-preview-2024-09-12\"]\n",
    "\n",
    "model = smf.glm(\n",
    "    formula=\"success ~ mental_state\", data=model_data, family=sm.families.Binomial()\n",
    ")\n",
    "\n",
    "result = model.fit()\n",
    "print(result.summary())"
   ]
  },
  {
   "cell_type": "markdown",
   "id": "ce5b3a7c",
   "metadata": {},
   "source": [
    "## Mixed Effects Model"
   ]
  },
  {
   "cell_type": "code",
   "execution_count": 14,
   "id": "5f53f71f",
   "metadata": {},
   "outputs": [
    {
     "name": "stdout",
     "output_type": "stream",
     "text": [
      "                     Binomial Mixed GLM Results\n",
      "=====================================================================\n",
      "                       Type Post. Mean Post. SD   SD  SD (LB) SD (UB)\n",
      "---------------------------------------------------------------------\n",
      "Intercept                 M    -1.5492   0.1273                      \n",
      "mental_state[T.reveal]    M     2.9550   0.1752                      \n",
      "scenario                  V    -0.7688   0.3251 0.464   0.242   0.888\n",
      "=====================================================================\n",
      "Parameter types are mean structure (M) and variance structure (V)\n",
      "Variance parameters are modeled as log standard deviations\n"
     ]
    },
    {
     "name": "stderr",
     "output_type": "stream",
     "text": [
      "/var/folders/y6/5z6f2swj2zqf2122ywg2lfg40000gn/T/ipykernel_50401/2457102128.py:2: SettingWithCopyWarning: \n",
      "A value is trying to be set on a copy of a slice from a DataFrame.\n",
      "Try using .loc[row_indexer,col_indexer] = value instead\n",
      "\n",
      "See the caveats in the documentation: https://pandas.pydata.org/pandas-docs/stable/user_guide/indexing.html#returning-a-view-versus-a-copy\n",
      "  model_data[\"scenario\"] = model_data[\"scenario\"].astype(str)\n"
     ]
    }
   ],
   "source": [
    "# Ensure 'scenario' is of type string\n",
    "model_data[\"scenario\"] = model_data[\"scenario\"].astype(str)\n",
    "\n",
    "# Define the fixed effects formula\n",
    "formula = \"success ~ mental_state\"\n",
    "\n",
    "# Define variance components\n",
    "vc_formula = {\"scenario\": \"0 + C(scenario)\"}\n",
    "\n",
    "# Fit the model\n",
    "model = BinomialBayesMixedGLM.from_formula(\n",
    "    formula=formula, vc_formulas=vc_formula, data=model_data\n",
    ")\n",
    "\n",
    "result = model.fit_vb()\n",
    "print(result.summary())"
   ]
  },
  {
   "cell_type": "markdown",
   "id": "2816c02a",
   "metadata": {},
   "source": [
    "# H5\n",
    "\n",
    "## Simple GLM"
   ]
  },
  {
   "cell_type": "code",
   "execution_count": 15,
   "id": "2a07584e",
   "metadata": {},
   "outputs": [
    {
     "name": "stdout",
     "output_type": "stream",
     "text": [
      "                 Generalized Linear Model Regression Results                  \n",
      "==============================================================================\n",
      "Dep. Variable:                success   No. Observations:                  602\n",
      "Model:                            GLM   Df Residuals:                      599\n",
      "Model Family:                Binomial   Df Model:                            2\n",
      "Link Function:                  Logit   Scale:                          1.0000\n",
      "Method:                          IRLS   Log-Likelihood:                -275.26\n",
      "Date:                Fri, 31 Jan 2025   Deviance:                       550.52\n",
      "Time:                        08:22:38   Pearson chi2:                     602.\n",
      "No. Iterations:                     5   Pseudo R-squ. (CS):            0.04533\n",
      "Covariance Type:            nonrobust                                         \n",
      "===========================================================================================================\n",
      "                                              coef    std err          z      P>|z|      [0.025      0.975]\n",
      "-----------------------------------------------------------------------------------------------------------\n",
      "Intercept                                  -2.3136      0.247     -9.364      0.000      -2.798      -1.829\n",
      "persuader_type[T.human]                     1.4283      0.292      4.899      0.000       0.857       2.000\n",
      "persuader_type[T.o1-preview-2024-09-12]     0.7630      0.309      2.467      0.014       0.157       1.369\n",
      "===========================================================================================================\n"
     ]
    }
   ],
   "source": [
    "model_data = data.loc[data[\"mental_state\"] == \"no_reveal\"]\n",
    "\n",
    "model = smf.glm(\n",
    "    formula=\"success ~ persuader_type\", data=model_data, family=sm.families.Binomial()\n",
    ")\n",
    "\n",
    "result = model.fit()\n",
    "print(result.summary())"
   ]
  },
  {
   "cell_type": "markdown",
   "id": "8e24d9d8",
   "metadata": {},
   "source": [
    "## Mixed Effects Model"
   ]
  },
  {
   "cell_type": "code",
   "execution_count": 16,
   "id": "515d49f2",
   "metadata": {},
   "outputs": [
    {
     "name": "stderr",
     "output_type": "stream",
     "text": [
      "/var/folders/y6/5z6f2swj2zqf2122ywg2lfg40000gn/T/ipykernel_50401/2457102128.py:2: SettingWithCopyWarning: \n",
      "A value is trying to be set on a copy of a slice from a DataFrame.\n",
      "Try using .loc[row_indexer,col_indexer] = value instead\n",
      "\n",
      "See the caveats in the documentation: https://pandas.pydata.org/pandas-docs/stable/user_guide/indexing.html#returning-a-view-versus-a-copy\n",
      "  model_data[\"scenario\"] = model_data[\"scenario\"].astype(str)\n"
     ]
    },
    {
     "name": "stdout",
     "output_type": "stream",
     "text": [
      "                     Binomial Mixed GLM Results\n",
      "=====================================================================\n",
      "                       Type Post. Mean Post. SD   SD  SD (LB) SD (UB)\n",
      "---------------------------------------------------------------------\n",
      "Intercept                 M    -1.4885   0.1045                      \n",
      "mental_state[T.reveal]    M     0.0000   2.0000                      \n",
      "scenario                  V    -1.1738   0.3400 0.309   0.157   0.610\n",
      "=====================================================================\n",
      "Parameter types are mean structure (M) and variance structure (V)\n",
      "Variance parameters are modeled as log standard deviations\n"
     ]
    }
   ],
   "source": [
    "# Ensure 'scenario' is of type string\n",
    "model_data[\"scenario\"] = model_data[\"scenario\"].astype(str)\n",
    "\n",
    "# Define the fixed effects formula\n",
    "formula = \"success ~ mental_state\"\n",
    "\n",
    "# Define variance components\n",
    "vc_formula = {\"scenario\": \"0 + C(scenario)\"}\n",
    "\n",
    "# Fit the model\n",
    "model = BinomialBayesMixedGLM.from_formula(\n",
    "    formula=formula, vc_formulas=vc_formula, data=model_data\n",
    ")\n",
    "\n",
    "result = model.fit_vb()\n",
    "print(result.summary())"
   ]
  },
  {
   "cell_type": "markdown",
   "id": "227d2bdc",
   "metadata": {},
   "source": [
    "# H6\n",
    "\n",
    "## Simple GLM"
   ]
  },
  {
   "cell_type": "code",
   "execution_count": 17,
   "id": "7f081ec9",
   "metadata": {},
   "outputs": [
    {
     "name": "stdout",
     "output_type": "stream",
     "text": [
      "                 Generalized Linear Model Regression Results                  \n",
      "==============================================================================\n",
      "Dep. Variable:                success   No. Observations:                  602\n",
      "Model:                            GLM   Df Residuals:                      599\n",
      "Model Family:                Binomial   Df Model:                            2\n",
      "Link Function:                  Logit   Scale:                          1.0000\n",
      "Method:                          IRLS   Log-Likelihood:                -327.44\n",
      "Date:                Fri, 31 Jan 2025   Deviance:                       654.89\n",
      "Time:                        08:22:38   Pearson chi2:                     602.\n",
      "No. Iterations:                     4   Pseudo R-squ. (CS):             0.2496\n",
      "Covariance Type:            nonrobust                                         \n",
      "===========================================================================================================\n",
      "                                              coef    std err          z      P>|z|      [0.025      0.975]\n",
      "-----------------------------------------------------------------------------------------------------------\n",
      "Intercept                                  -1.5506      0.186     -8.332      0.000      -1.915      -1.186\n",
      "persuader_type[T.human]                     1.0239      0.236      4.333      0.000       0.561       1.487\n",
      "persuader_type[T.o1-preview-2024-09-12]     2.9059      0.256     11.371      0.000       2.405       3.407\n",
      "===========================================================================================================\n"
     ]
    }
   ],
   "source": [
    "model_data = data.loc[data[\"mental_state\"] == \"reveal\"]\n",
    "\n",
    "model = smf.glm(\n",
    "    formula=\"success ~ persuader_type\", data=model_data, family=sm.families.Binomial()\n",
    ")\n",
    "\n",
    "result = model.fit()\n",
    "print(result.summary())"
   ]
  },
  {
   "cell_type": "markdown",
   "id": "7644ad1a",
   "metadata": {},
   "source": [
    "## Mixed Effects Model"
   ]
  },
  {
   "cell_type": "code",
   "execution_count": 18,
   "id": "6284be74",
   "metadata": {},
   "outputs": [
    {
     "name": "stderr",
     "output_type": "stream",
     "text": [
      "/var/folders/y6/5z6f2swj2zqf2122ywg2lfg40000gn/T/ipykernel_50401/1132502827.py:2: SettingWithCopyWarning: \n",
      "A value is trying to be set on a copy of a slice from a DataFrame.\n",
      "Try using .loc[row_indexer,col_indexer] = value instead\n",
      "\n",
      "See the caveats in the documentation: https://pandas.pydata.org/pandas-docs/stable/user_guide/indexing.html#returning-a-view-versus-a-copy\n",
      "  model_data[\"scenario\"] = model_data[\"scenario\"].astype(str)\n"
     ]
    },
    {
     "name": "stdout",
     "output_type": "stream",
     "text": [
      "                              Binomial Mixed GLM Results\n",
      "======================================================================================\n",
      "                                        Type Post. Mean Post. SD   SD  SD (LB) SD (UB)\n",
      "--------------------------------------------------------------------------------------\n",
      "Intercept                                  M    -1.5127   0.0954                      \n",
      "persuader_type[T.human]                    M     0.9816   0.1456                      \n",
      "persuader_type[T.o1-preview-2024-09-12]    M     2.8733   0.1737                      \n",
      "scenario                                   V    -1.4750   0.3525 0.229   0.113   0.463\n",
      "======================================================================================\n",
      "Parameter types are mean structure (M) and variance structure (V)\n",
      "Variance parameters are modeled as log standard deviations\n"
     ]
    }
   ],
   "source": [
    "# Ensure 'scenario' is of type string\n",
    "model_data[\"scenario\"] = model_data[\"scenario\"].astype(str)\n",
    "\n",
    "# Define the fixed effects formula\n",
    "formula = \"success ~ persuader_type\"\n",
    "\n",
    "# Define variance components\n",
    "vc_formula = {\"scenario\": \"0 + C(scenario)\"}\n",
    "\n",
    "# Fit the model\n",
    "model = BinomialBayesMixedGLM.from_formula(\n",
    "    formula=formula, vc_formulas=vc_formula, data=model_data\n",
    ")\n",
    "\n",
    "result = model.fit_vb()\n",
    "print(result.summary())"
   ]
  },
  {
   "cell_type": "markdown",
   "id": "a3f47cc6",
   "metadata": {},
   "source": [
    "# H7\n",
    "\n",
    "## Simple GLM"
   ]
  },
  {
   "cell_type": "code",
   "execution_count": 19,
   "id": "9bb7efca",
   "metadata": {},
   "outputs": [
    {
     "name": "stdout",
     "output_type": "stream",
     "text": [
      "                 Generalized Linear Model Regression Results                  \n",
      "==============================================================================\n",
      "Dep. Variable:                success   No. Observations:                 1204\n",
      "Model:                            GLM   Df Residuals:                     1198\n",
      "Model Family:                Binomial   Df Model:                            5\n",
      "Link Function:                  Logit   Scale:                          1.0000\n",
      "Method:                          IRLS   Log-Likelihood:                -602.70\n",
      "Date:                Fri, 31 Jan 2025   Deviance:                       1205.4\n",
      "Time:                        08:22:38   Pearson chi2:                 1.20e+03\n",
      "No. Iterations:                     5   Pseudo R-squ. (CS):             0.2190\n",
      "Covariance Type:            nonrobust                                         \n",
      "==================================================================================================================================\n",
      "                                                                     coef    std err          z      P>|z|      [0.025      0.975]\n",
      "----------------------------------------------------------------------------------------------------------------------------------\n",
      "Intercept                                                         -2.3136      0.247     -9.364      0.000      -2.798      -1.829\n",
      "persuader_type[T.human]                                            1.4283      0.292      4.899      0.000       0.857       2.000\n",
      "persuader_type[T.o1-preview-2024-09-12]                            0.7630      0.309      2.467      0.014       0.157       1.369\n",
      "mental_state[T.reveal]                                             0.7630      0.309      2.467      0.014       0.157       1.369\n",
      "persuader_type[T.human]:mental_state[T.reveal]                    -0.4044      0.375     -1.078      0.281      -1.140       0.331\n",
      "persuader_type[T.o1-preview-2024-09-12]:mental_state[T.reveal]     2.1429      0.401      5.341      0.000       1.356       2.929\n",
      "==================================================================================================================================\n"
     ]
    }
   ],
   "source": [
    "model_data = data\n",
    "\n",
    "model = smf.glm(\n",
    "    formula=\"success ~ persuader_type * mental_state\",\n",
    "    data=model_data,\n",
    "    family=sm.families.Binomial(),\n",
    ")\n",
    "\n",
    "result = model.fit()\n",
    "print(result.summary())"
   ]
  },
  {
   "cell_type": "markdown",
   "id": "9db2a100",
   "metadata": {},
   "source": [
    "## Mixed Effects Model"
   ]
  },
  {
   "cell_type": "code",
   "execution_count": 20,
   "id": "5a289af2",
   "metadata": {
    "lines_to_next_cell": 0
   },
   "outputs": [
    {
     "name": "stdout",
     "output_type": "stream",
     "text": [
      "                                         Binomial Mixed GLM Results\n",
      "=============================================================================================================\n",
      "                                                               Type Post. Mean Post. SD   SD  SD (LB) SD (UB)\n",
      "-------------------------------------------------------------------------------------------------------------\n",
      "Intercept                                                         M    -2.2705   0.0712                      \n",
      "persuader_type[T.human]                                           M     1.3679   0.1060                      \n",
      "persuader_type[T.o1-preview-2024-09-12]                           M     0.7240   0.1268                      \n",
      "mental_state[T.reveal]                                            M     0.7233   0.0957                      \n",
      "persuader_type[T.human]:mental_state[T.reveal]                    M    -0.3436   0.1455                      \n",
      "persuader_type[T.o1-preview-2024-09-12]:mental_state[T.reveal]    M     2.1919   0.1741                      \n",
      "scenario                                                          V    -1.6785   0.3617 0.187   0.091   0.385\n",
      "=============================================================================================================\n",
      "Parameter types are mean structure (M) and variance structure (V)\n",
      "Variance parameters are modeled as log standard deviations\n"
     ]
    }
   ],
   "source": [
    "# Ensure categorical variables are properly formatted\n",
    "model_data[\"scenario\"] = model_data[\"scenario\"].astype(str)\n",
    "model_data[\"persuader_type\"] = model_data[\"persuader_type\"].astype(str)\n",
    "model_data[\"mental_state\"] = model_data[\"mental_state\"].astype(str)\n",
    "\n",
    "# Define the fixed effects formula with interaction\n",
    "formula = \"success ~ persuader_type * mental_state\"\n",
    "\n",
    "# Define variance components\n",
    "vc_formula = {\"scenario\": \"0 + C(scenario)\"}\n",
    "\n",
    "# Fit the model\n",
    "model = BinomialBayesMixedGLM.from_formula(\n",
    "    formula=formula, vc_formulas=vc_formula, data=model_data\n",
    ")\n",
    "\n",
    "result = model.fit_vb()\n",
    "print(result.summary())"
   ]
  }
 ],
 "metadata": {
  "jupytext": {
   "cell_metadata_filter": "-all",
   "main_language": "python",
   "notebook_metadata_filter": "-all"
  },
  "kernelspec": {
   "display_name": "env-mindgames",
   "language": "python",
   "name": "env-mindgames"
  },
  "language_info": {
   "codemirror_mode": {
    "name": "ipython",
    "version": 3
   },
   "file_extension": ".py",
   "mimetype": "text/x-python",
   "name": "python",
   "nbconvert_exporter": "python",
   "pygments_lexer": "ipython3",
   "version": "3.11.10"
  }
 },
 "nbformat": 4,
 "nbformat_minor": 5
}
